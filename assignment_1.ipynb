{
 "cells": [
  {
   "cell_type": "markdown",
   "id": "d5ed93f4",
   "metadata": {},
   "source": [
    "Q1. Given an array of integers nums and an integer target, return indices of the two numbers such that they add up to target."
   ]
  },
  {
   "cell_type": "code",
   "execution_count": 28,
   "id": "c4b710c9",
   "metadata": {},
   "outputs": [],
   "source": [
    "def prog1(nums,target):\n",
    "    \n",
    "    for i in range(len(nums)):\n",
    "        if nums[i]<target:\n",
    "            ele = target-nums[i]\n",
    "            if ele in nums:\n",
    "                j=nums.index(ele)\n",
    "                return i,j\n",
    "    return \"target not available\""
   ]
  },
  {
   "cell_type": "code",
   "execution_count": 29,
   "id": "f295ea33",
   "metadata": {},
   "outputs": [
    {
     "data": {
      "text/plain": [
       "(0, 3)"
      ]
     },
     "execution_count": 29,
     "metadata": {},
     "output_type": "execute_result"
    }
   ],
   "source": [
    "nums = [2,1,15,7]\n",
    "target = 9\n",
    "prog1(nums,target)"
   ]
  },
  {
   "cell_type": "markdown",
   "id": "43bd00af",
   "metadata": {},
   "source": [
    "Q2. Given an integer array nums and an integer val, remove all occurrences of val in nums in-place. The order of the elements may be changed. Then return the number of elements in nums which are not equal to val."
   ]
  },
  {
   "cell_type": "code",
   "execution_count": 51,
   "id": "b378b008",
   "metadata": {},
   "outputs": [],
   "source": [
    "def prog2(nums, val):\n",
    "    i=0\n",
    "    while i<len(nums):\n",
    "        j=i\n",
    "        if nums[i] == val:\n",
    "            nums.remove(val)\n",
    "            i=j\n",
    "        else:\n",
    "            i=i+1\n",
    "    return len(nums)"
   ]
  },
  {
   "cell_type": "code",
   "execution_count": 53,
   "id": "53593afb",
   "metadata": {},
   "outputs": [
    {
     "data": {
      "text/plain": [
       "3"
      ]
     },
     "execution_count": 53,
     "metadata": {},
     "output_type": "execute_result"
    }
   ],
   "source": [
    "nums = [3,2,2,3,5]\n",
    "val = 3\n",
    "prog2(nums,val)"
   ]
  },
  {
   "cell_type": "markdown",
   "id": "0d704499",
   "metadata": {},
   "source": [
    "Q3. Given a sorted array of distinct integers and a target value, return the index if the target is found. If not, return the index where it would be if it were inserted in order.\n",
    "\n",
    "You must write an algorithm with O(log n) runtime complexity.\n",
    "\n"
   ]
  },
  {
   "cell_type": "code",
   "execution_count": 81,
   "id": "a6469add",
   "metadata": {},
   "outputs": [],
   "source": [
    "def prog3(sort_ar,target):\n",
    "    \n",
    "    hi  = len(sort_ar)\n",
    "    mid = int(hi/2)\n",
    "    \n",
    "    if hi == 0:\n",
    "        return 0\n",
    "    \n",
    "    elif hi ==1:\n",
    "        if sort_ar[hi]>target:\n",
    "            return hi-1\n",
    "        else:\n",
    "            return hi+1\n",
    "        \n",
    "    elif sort_ar[mid]==target:\n",
    "        return mid-1\n",
    "    \n",
    "    elif sort_ar[hi-1]<target:\n",
    "        return hi\n",
    "        \n",
    "    elif sort_ar[mid]>target:\n",
    "        #go to left side\n",
    "        for i in range(0,mid+1):\n",
    "            if sort_ar[i]==target:\n",
    "                return i\n",
    "            elif sort_ar[i]>target:\n",
    "                return i\n",
    "    else:\n",
    "          #go to right side\n",
    "        for i in range(mid,hi):\n",
    "            if sort_ar[i]==target:\n",
    "                return i\n",
    "            elif sort_ar[i]>target:\n",
    "                return i"
   ]
  },
  {
   "cell_type": "code",
   "execution_count": 84,
   "id": "2827d56b",
   "metadata": {},
   "outputs": [
    {
     "data": {
      "text/plain": [
       "2"
      ]
     },
     "execution_count": 84,
     "metadata": {},
     "output_type": "execute_result"
    }
   ],
   "source": [
    "sort_ar = [1,3,5,6,12]\n",
    "target = 4\n",
    "prog3(sort_ar,target)"
   ]
  },
  {
   "cell_type": "markdown",
   "id": "1b929cae",
   "metadata": {},
   "source": [
    "Q4. You are given a large integer represented as an integer array digits, where each digits[i] is the ith digit of the integer. The digits are ordered from most significant to least significant in left-to-right order. The large integer does not contain any leading 0's.\n",
    "\n",
    "Increment the large integer by one and return the resulting array of digits."
   ]
  },
  {
   "cell_type": "code",
   "execution_count": 85,
   "id": "07d17dea",
   "metadata": {},
   "outputs": [],
   "source": [
    "def prog4(arr):\n",
    "    \n",
    "    arr_len = len(arr)\n",
    "    \n",
    "    if arr_len==0:\n",
    "        return False\n",
    "    \n",
    "    elif arr[arr_len-1]<9:\n",
    "        arr[arr_len-1]=arr[arr_len-1]+1\n",
    "        return arr\n",
    "    \n",
    "    else:\n",
    "        if arr_len>1:\n",
    "            arr[arr_len-1] = 0\n",
    "            arr[arr_len-2] = arr[arr_len-2]+1\n",
    "            return arr\n",
    "        else:\n",
    "            arr[arr_len-1]=1\n",
    "            arr.append(0)\n",
    "            return arr\n",
    "        "
   ]
  },
  {
   "cell_type": "code",
   "execution_count": 91,
   "id": "6d5365c7",
   "metadata": {},
   "outputs": [
    {
     "name": "stdout",
     "output_type": "stream",
     "text": [
      "[1, 2, 4]\n",
      "[1, 0]\n"
     ]
    }
   ],
   "source": [
    "digits = [1,2,3]\n",
    "digits1 = [1,2,9]\n",
    "digits2 = [1]\n",
    "digits3 = [9]\n",
    "print(prog4(digits))\n",
    "print(prog4(digits3))"
   ]
  },
  {
   "cell_type": "markdown",
   "id": "40c1d308",
   "metadata": {},
   "source": [
    "Q5. You are given two integer arrays nums1 and nums2, sorted in non-decreasing order, and two integers m and n, representing the number of elements in nums1 and nums2 respectively.\n",
    "\n",
    "Merge nums1 and nums2 into a single array sorted in non-decreasing order.\n"
   ]
  },
  {
   "cell_type": "code",
   "execution_count": 93,
   "id": "bc33b29f",
   "metadata": {},
   "outputs": [],
   "source": [
    "def prog5(nums1,nums2,m,n):\n",
    "    \n",
    "    for i in range(0,n):\n",
    "        nums1[i+m]=nums2[i]\n",
    "        \n",
    "    nums1.sort()\n",
    "    return nums1\n",
    "    "
   ]
  },
  {
   "cell_type": "code",
   "execution_count": 96,
   "id": "c51e9ad7",
   "metadata": {},
   "outputs": [
    {
     "data": {
      "text/plain": [
       "[1, 2, 2, 3, 5, 6, 7]"
      ]
     },
     "execution_count": 96,
     "metadata": {},
     "output_type": "execute_result"
    }
   ],
   "source": [
    "nums1 = [1,2,3,0,0,0,0]\n",
    "m = 3\n",
    "nums2 = [2,5,6,7]\n",
    "n = 4\n",
    "prog5(nums1,nums2,m,n)"
   ]
  },
  {
   "cell_type": "markdown",
   "id": "8734b5f0",
   "metadata": {},
   "source": [
    "Q6. Given an integer array nums, return true if any value appears at least twice in the array, and return false if every element is distinct."
   ]
  },
  {
   "cell_type": "code",
   "execution_count": 97,
   "id": "769a3be2",
   "metadata": {},
   "outputs": [],
   "source": [
    "def prog6(arr_num):\n",
    "    \n",
    "    num_set = set(arr_num)\n",
    "    if len(num_set)==len(arr_num):\n",
    "        return False\n",
    "    else:\n",
    "        return True"
   ]
  },
  {
   "cell_type": "code",
   "execution_count": 101,
   "id": "166c132d",
   "metadata": {},
   "outputs": [
    {
     "name": "stdout",
     "output_type": "stream",
     "text": [
      "True\n",
      "False\n"
     ]
    }
   ],
   "source": [
    "nums = [1,2,3,1]\n",
    "nums1 = [2,4,6,7,11]\n",
    "print(prog6(nums))\n",
    "print(prog6(nums1))"
   ]
  },
  {
   "cell_type": "markdown",
   "id": "3f2155dc",
   "metadata": {},
   "source": [
    "Q7. Given an integer array nums, move all 0's to the end of it while maintaining the relative order of the nonzero elements."
   ]
  },
  {
   "cell_type": "code",
   "execution_count": 110,
   "id": "80fbaea5",
   "metadata": {},
   "outputs": [],
   "source": [
    "def prog7(arr_nums):\n",
    "    \n",
    "    arr_len = len(arr_nums)\n",
    "    \n",
    "    for i in range(0,arr_len):\n",
    "        \n",
    "        if arr_nums[i]==0:\n",
    "            for j in range(i+1,arr_len):\n",
    "                if arr_nums[j] != 0:\n",
    "                    arr_nums[i] = arr_nums[j]\n",
    "                    arr_nums[j] = 0\n",
    "                    break\n",
    "                \n",
    "                    \n",
    "    return arr_nums\n",
    "                    "
   ]
  },
  {
   "cell_type": "code",
   "execution_count": 113,
   "id": "70fb730b",
   "metadata": {},
   "outputs": [
    {
     "name": "stdout",
     "output_type": "stream",
     "text": [
      "[1, 3, 12, 0, 0]\n",
      "[1, 55, 3, 12, 0, 0, 0, 0]\n"
     ]
    }
   ],
   "source": [
    "nums = [0,1,0,3,12]\n",
    "nums1 = [0,1,0,55,0,3,12,0]\n",
    "print(prog7(nums))\n",
    "print(prog7(nums1))"
   ]
  },
  {
   "cell_type": "markdown",
   "id": "cacc8550",
   "metadata": {},
   "source": [
    "Q8. You have a set of integers s, which originally contains all the numbers from 1 to n. Unfortunately, due to some error, one of the numbers in s got duplicated to another number in the set, which results in repetition of one number and loss of another number.\n",
    "\n",
    "You are given an integer array nums representing the data status of this set after the error.\n",
    "\n",
    "Find the number that occurs twice and the number that is missing and return them in the form of an array."
   ]
  },
  {
   "cell_type": "code",
   "execution_count": 117,
   "id": "20a80b0b",
   "metadata": {},
   "outputs": [],
   "source": [
    "def prog8(arr_nums):\n",
    "    \n",
    "    arr_len = len(arr_nums)\n",
    "    \n",
    "    for i in range(0,arr_len):\n",
    "        if arr_nums[i] != i+1:\n",
    "            num_twice = arr_nums[i]\n",
    "            arr_nums[i]=i+1\n",
    "            num_missing =arr_nums[i]\n",
    "    \n",
    "    return num_twice, num_missing\n",
    "            \n",
    "    "
   ]
  },
  {
   "cell_type": "code",
   "execution_count": 120,
   "id": "3fdceb62",
   "metadata": {},
   "outputs": [
    {
     "name": "stdout",
     "output_type": "stream",
     "text": [
      "(2, 3)\n",
      "(6, 7)\n"
     ]
    }
   ],
   "source": [
    "nums = [1,2,2,4]\n",
    "nums1 = [1,2,3,4,5,6,6,8]\n",
    "print(prog8(nums))\n",
    "print(prog8(nums1))"
   ]
  },
  {
   "cell_type": "code",
   "execution_count": null,
   "id": "6af7a132",
   "metadata": {},
   "outputs": [],
   "source": []
  }
 ],
 "metadata": {
  "kernelspec": {
   "display_name": "Python 3 (ipykernel)",
   "language": "python",
   "name": "python3"
  },
  "language_info": {
   "codemirror_mode": {
    "name": "ipython",
    "version": 3
   },
   "file_extension": ".py",
   "mimetype": "text/x-python",
   "name": "python",
   "nbconvert_exporter": "python",
   "pygments_lexer": "ipython3",
   "version": "3.7.4"
  }
 },
 "nbformat": 4,
 "nbformat_minor": 5
}
