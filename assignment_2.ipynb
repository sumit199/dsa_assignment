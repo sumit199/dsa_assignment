{
 "cells": [
  {
   "cell_type": "markdown",
   "id": "94a79933",
   "metadata": {},
   "source": [
    "Q1. Given an integer array nums of 2n integers, group these integers into n pairs (a1, b1), (a2, b2),\n",
    "..., (an, bn) such that the sum of min(ai, bi) for all i is maximized. Return the maximized sum."
   ]
  },
  {
   "cell_type": "code",
   "execution_count": 7,
   "id": "d10564cb",
   "metadata": {},
   "outputs": [],
   "source": [
    "#we will sort the array first as we see the pair of num which gives max result is in sorted order\n",
    "# time complexity = O(n) and space complexity O(1)\n",
    "def prog1(arr_nums):\n",
    "    \n",
    "    if len(arr_nums)==0:\n",
    "        return False\n",
    "    arr_nums.sort()\n",
    "    max_sum = 0\n",
    "    for i in range(0,len(arr_nums),2):\n",
    "        max_sum += arr_nums[i]       \n",
    "    return max_sum\n",
    "    "
   ]
  },
  {
   "cell_type": "code",
   "execution_count": 8,
   "id": "30aff155",
   "metadata": {},
   "outputs": [
    {
     "name": "stdout",
     "output_type": "stream",
     "text": [
      "4\n",
      "9\n"
     ]
    }
   ],
   "source": [
    "nums = [1,4,3,2]\n",
    "nums1 = [1,5,4,3,2,7]\n",
    "print(prog1(nums))\n",
    "print(prog1(nums1))"
   ]
  },
  {
   "cell_type": "markdown",
   "id": "7a26f4be",
   "metadata": {},
   "source": [
    "Q2. Alice has n candies, where the ith candy is of type candyType[i]. Alice noticed that she started\n",
    "to gain weight, so she visited a doctor.\n",
    "\n",
    "The doctor advised Alice to only eat n / 2 of the candies she has (n is always even). Alice\n",
    "likes her candies very much, and she wants to eat the maximum number of different types of\n",
    "candies while still following the doctor's advice.\n",
    "\n",
    "Given the integer array candyType of length n, return the maximum number of different types\n",
    "of candies she can eat if she only eats n / 2 of them."
   ]
  },
  {
   "cell_type": "code",
   "execution_count": 22,
   "id": "d09a4616",
   "metadata": {},
   "outputs": [],
   "source": [
    "# time complexity = O(n) and space complexity O(1)\n",
    "def prog2(candy):\n",
    "    \n",
    "    arr_len = len(candy)\n",
    "    candyType = arr_len/2\n",
    "   \n",
    "    if arr_len==0:\n",
    "        return False\n",
    "    \n",
    "    if candyType==1:\n",
    "        return 1\n",
    "    \n",
    "    ele = candy[0]\n",
    "    flag = 1\n",
    "    candyType -= 1\n",
    "    for i in range(0,arr_len):\n",
    "                \n",
    "        if candyType==0:\n",
    "            return flag\n",
    "\n",
    "        elif candy[i]!=ele:\n",
    "            ele = candy[i]\n",
    "            flag += 1\n",
    "            candyType -= 1\n",
    "            \n",
    "    return flag\n"
   ]
  },
  {
   "cell_type": "code",
   "execution_count": 23,
   "id": "4a6a50c2",
   "metadata": {},
   "outputs": [
    {
     "name": "stdout",
     "output_type": "stream",
     "text": [
      "3\n",
      "4\n"
     ]
    }
   ],
   "source": [
    "candyType = [1,1,2,2,3,3]\n",
    "candyType1 = [1,1,2,2,3,3,4,5]\n",
    "print(prog2(candyType))\n",
    "print(prog2(candyType1))"
   ]
  },
  {
   "cell_type": "markdown",
   "id": "d7e97b25",
   "metadata": {},
   "source": [
    "Q3. We define a harmonious array as an array where the difference between its maximum value\n",
    "and its minimum value is exactly 1.\n",
    "\n",
    "Given an integer array nums, return the length of its longest harmonious subsequence\n",
    "among all its possible subsequences.\n",
    "\n",
    "A subsequence of an array is a sequence that can be derived from the array by deleting some\n",
    "or no elements without changing the order of the remaining elements.\n"
   ]
  },
  {
   "cell_type": "code",
   "execution_count": 30,
   "id": "d22170f6",
   "metadata": {},
   "outputs": [],
   "source": [
    "# time complexity = O(n) and space complexity O(n)\n",
    "def prog3(arr_nums):\n",
    "        \n",
    "    arr_len = len(arr_nums)\n",
    "    result = 0\n",
    "    counts = {}\n",
    "    \n",
    "    if arr_len == 0:\n",
    "        return False\n",
    "    for i in arr_nums:\n",
    "        if i in counts:\n",
    "            counts[i] += 1\n",
    "        else:\n",
    "            counts[i] = 1\n",
    "        inc = i + 1\n",
    "        dec = i - 1\n",
    "        if dec in counts:\n",
    "            result = max(result, counts[i] + counts[dec])\n",
    "        if inc in counts:\n",
    "            result = max(result, counts[i] + counts[inc])\n",
    "    return result"
   ]
  },
  {
   "cell_type": "code",
   "execution_count": 31,
   "id": "1ea510d9",
   "metadata": {},
   "outputs": [
    {
     "data": {
      "text/plain": [
       "5"
      ]
     },
     "execution_count": 31,
     "metadata": {},
     "output_type": "execute_result"
    }
   ],
   "source": [
    "nums = [1,3,2,2,5,2,3,7]\n",
    "prog3(nums)"
   ]
  },
  {
   "cell_type": "markdown",
   "id": "2773eeb1",
   "metadata": {},
   "source": [
    "Q4. You have a long flowerbed in which some of the plots are planted, and some are not.\n",
    "However, flowers cannot be planted in adjacent plots.\n",
    "\n",
    "Given an integer array flowerbed containing 0's and 1's, where 0 means empty and 1 means\n",
    "not empty, and an integer n, return true if n new flowers can be planted in the flowerbed\n",
    "without violating the no-adjacent-flowers rule and false otherwise."
   ]
  },
  {
   "cell_type": "code",
   "execution_count": 47,
   "id": "2627677f",
   "metadata": {},
   "outputs": [],
   "source": [
    "# time complexity = O(1) and space complexity O(1)\n",
    "def prog4(flowerbed, n):\n",
    "    \n",
    "    arr_len = len(flowerbed)\n",
    "    output = int((arr_len+1)/2)\n",
    "    \n",
    "    if n <= output:\n",
    "        return True\n",
    "    else:\n",
    "        return False"
   ]
  },
  {
   "cell_type": "code",
   "execution_count": 49,
   "id": "f2474182",
   "metadata": {},
   "outputs": [
    {
     "data": {
      "text/plain": [
       "True"
      ]
     },
     "execution_count": 49,
     "metadata": {},
     "output_type": "execute_result"
    }
   ],
   "source": [
    "flowerbed = [1,0,0,0,1,0,1]\n",
    "n = 4\n",
    "prog4(flowerbed,n)"
   ]
  },
  {
   "cell_type": "markdown",
   "id": "890740ee",
   "metadata": {},
   "source": [
    "Q5. Given an integer array nums, find three numbers whose product is maximum and return the\n",
    "maximum product.\n"
   ]
  },
  {
   "cell_type": "code",
   "execution_count": 85,
   "id": "17a2c6eb",
   "metadata": {},
   "outputs": [],
   "source": [
    "# time complexity = O(n) and space complexity O(n)\n",
    "import heapq\n",
    "\n",
    "def prog5(arr_nums):\n",
    "    \n",
    "    max_heap =[]\n",
    "    new_list = []\n",
    "    arr_len = len(arr_nums)\n",
    "    \n",
    "    if arr_len<3:\n",
    "        return False\n",
    "    \n",
    "    #convert list all positive num if it have negative num\n",
    "    for i in arr_nums:\n",
    "        if i <0:\n",
    "            new_list.append(-i)\n",
    "        else:\n",
    "            new_list.append(i)\n",
    "    \n",
    "    #make max heap\n",
    "    for i in range(arr_len):\n",
    "        heapq.heappush(max_heap,-new_list[i])\n",
    "\n",
    "    max1 = heapq.heappop(max_heap)\n",
    "    max2 = heapq.heappop(max_heap)\n",
    "    max3 = heapq.heappop(max_heap)\n",
    "\n",
    "    product = -(max1*max2*max3)\n",
    "\n",
    "    return product"
   ]
  },
  {
   "cell_type": "code",
   "execution_count": 84,
   "id": "aa8543d9",
   "metadata": {},
   "outputs": [
    {
     "name": "stdout",
     "output_type": "stream",
     "text": [
      "6\n",
      "1200\n"
     ]
    }
   ],
   "source": [
    "nums = [1,2,3]\n",
    "nums1 = [-10, -3, 5, 6, -20]\n",
    "print(prog5(nums))\n",
    "print(prog5(nums1))"
   ]
  },
  {
   "cell_type": "markdown",
   "id": "4257336d",
   "metadata": {},
   "source": [
    "Q6. Given an array of integers nums which is sorted in ascending order, and an integer target,\n",
    "write a function to search target in nums. If target exists, then return its index. Otherwise,\n",
    "return -1.\n",
    "\n",
    "You must write an algorithm with O(log n) runtime complexity.\n"
   ]
  },
  {
   "cell_type": "code",
   "execution_count": 98,
   "id": "ee770e54",
   "metadata": {},
   "outputs": [],
   "source": [
    "#we are using binary search method so time complexity is O(logn)\n",
    "\n",
    "def prog6(arr_nums,target):\n",
    "    \n",
    "    arr_len = len(arr_nums)\n",
    "    mid = int(arr_len/2)\n",
    "    low = 0\n",
    "    \n",
    "    if arr_len==0:\n",
    "        return False\n",
    "    \n",
    "    if arr_len==1:\n",
    "        if arr_nums[0]==target:\n",
    "            return 0\n",
    "        else:\n",
    "            return -1\n",
    "  \n",
    "    if arr_nums[mid]==target:\n",
    "        return mid\n",
    "    \n",
    "    elif arr_nums[mid]>target:\n",
    "        for i in range(low,mid):\n",
    "            if arr_nums[i]==target:\n",
    "                return i\n",
    "            \n",
    "    else:\n",
    "        for i in range(mid,arr_len):\n",
    "            if arr_nums[i]==target:\n",
    "                return i\n",
    "    return -1"
   ]
  },
  {
   "cell_type": "code",
   "execution_count": 101,
   "id": "5f42d6af",
   "metadata": {},
   "outputs": [
    {
     "data": {
      "text/plain": [
       "4"
      ]
     },
     "execution_count": 101,
     "metadata": {},
     "output_type": "execute_result"
    }
   ],
   "source": [
    "nums = [-1,0,3,5,9,12]\n",
    "target = 9\n",
    "prog6(nums,target)"
   ]
  },
  {
   "cell_type": "markdown",
   "id": "fc60d88e",
   "metadata": {},
   "source": [
    "Q7. An array is monotonic if it is either monotone increasing or monotone decreasing.\n",
    "\n",
    "An array nums is monotone increasing if for all i <= j, nums[i] <= nums[j]. An array nums is\n",
    "monotone decreasing if for all i <= j, nums[i] >= nums[j].\n",
    "\n",
    "Given an integer array nums, return true if the given array is monotonic, or false otherwis"
   ]
  },
  {
   "cell_type": "code",
   "execution_count": 122,
   "id": "9c79ca37",
   "metadata": {},
   "outputs": [],
   "source": [
    "# time complexity = O(n) and space complexity O(1)\n",
    "def prog7(arr_nums):\n",
    "    \n",
    "    arr_len = len(arr_nums)\n",
    "    flag =True\n",
    "    flag1 =True\n",
    "    if arr_len < 2 :\n",
    "        return 'Nothing to check'\n",
    "    \n",
    "    #checking increasing monotonic\n",
    "    for i in range(arr_len-1):   \n",
    "        if arr_nums[i] > arr_nums[i+1]:\n",
    "            flag=False\n",
    "\n",
    "    #checking decreasing monotonic\n",
    "    for i in range(arr_len-1): \n",
    "        if arr_nums[i] < arr_nums[i+1]:\n",
    "            flag1=False\n",
    "    \n",
    "    return (flag or flag1)"
   ]
  },
  {
   "cell_type": "code",
   "execution_count": 120,
   "id": "783b2740",
   "metadata": {},
   "outputs": [
    {
     "name": "stdout",
     "output_type": "stream",
     "text": [
      "True\n",
      "True\n",
      "False\n"
     ]
    }
   ],
   "source": [
    "nums = [1,2,2,3]\n",
    "nums1 = [4,3,2,1]\n",
    "nums2 = [1,2,2,3,0]\n",
    "\n",
    "print(prog7(nums))\n",
    "print(prog7(nums1))\n",
    "print(prog7(nums2))"
   ]
  },
  {
   "cell_type": "markdown",
   "id": "4a3db82e",
   "metadata": {},
   "source": [
    "Q8. You are given an integer array nums and an integer k.\n",
    "\n",
    "In one operation, you can choose any index i where 0 <= i < nums.length and change nums[i]\n",
    "to nums[i] + x where x is an integer from the range [-k, k]. You can apply this operation at\n",
    "most once for each index i.\n",
    "\n",
    "The score of nums is the difference between the maximum and minimum elements in nums.\n",
    "\n",
    "Return the minimum score of nums after applying the mentioned operation at most once for\n",
    "each index in it."
   ]
  },
  {
   "cell_type": "code",
   "execution_count": 3,
   "id": "36d1d601",
   "metadata": {},
   "outputs": [],
   "source": [
    "# time complexity = O(n) and space complexity O(1)\n",
    "import random\n",
    "\n",
    "def prog8(arr_num,k):\n",
    "    \n",
    "    arr_len = len(arr_num)\n",
    "    \n",
    "    if arr_len==0:\n",
    "        return False\n",
    "    \n",
    "    x = random.randint(0, arr_len-1)# generate random int 0 to len of array\n",
    "    \n",
    "    arr_num[x] = arr_num[x] + k # adding number to random index\n",
    " \n",
    "    max_e = max(arr_num)\n",
    "    min_e = min(arr_num)\n",
    "    return max_e - min_e"
   ]
  },
  {
   "cell_type": "code",
   "execution_count": 4,
   "id": "7bcb6aae",
   "metadata": {},
   "outputs": [
    {
     "data": {
      "text/plain": [
       "10"
      ]
     },
     "execution_count": 4,
     "metadata": {},
     "output_type": "execute_result"
    }
   ],
   "source": [
    "nums = [5,12,7,1,2,10]\n",
    "k = 5 \n",
    "prog8(nums,k)"
   ]
  },
  {
   "cell_type": "code",
   "execution_count": null,
   "id": "44d8542c",
   "metadata": {},
   "outputs": [],
   "source": []
  },
  {
   "cell_type": "code",
   "execution_count": null,
   "id": "3a0dcc74",
   "metadata": {},
   "outputs": [],
   "source": []
  }
 ],
 "metadata": {
  "kernelspec": {
   "display_name": "Python 3 (ipykernel)",
   "language": "python",
   "name": "python3"
  },
  "language_info": {
   "codemirror_mode": {
    "name": "ipython",
    "version": 3
   },
   "file_extension": ".py",
   "mimetype": "text/x-python",
   "name": "python",
   "nbconvert_exporter": "python",
   "pygments_lexer": "ipython3",
   "version": "3.7.4"
  }
 },
 "nbformat": 4,
 "nbformat_minor": 5
}
